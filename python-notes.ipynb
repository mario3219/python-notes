{
 "cells": [
  {
   "cell_type": "markdown",
   "metadata": {},
   "source": [
    "# Speciella python kommandon"
   ]
  },
  {
   "cell_type": "markdown",
   "metadata": {},
   "source": [
    "### User input"
   ]
  },
  {
   "cell_type": "code",
   "execution_count": null,
   "metadata": {},
   "outputs": [],
   "source": [
    "# user input\n",
    "user_input = input('Man kan använda prompts som parameter: ')\n",
    "print(user_input)"
   ]
  },
  {
   "cell_type": "markdown",
   "metadata": {},
   "source": [
    "### raise (error meddelanden)"
   ]
  },
  {
   "cell_type": "code",
   "execution_count": 6,
   "metadata": {},
   "outputs": [
    {
     "ename": "ValueError",
     "evalue": "Bad value",
     "output_type": "error",
     "traceback": [
      "\u001b[1;31m---------------------------------------------------------------------------\u001b[0m",
      "\u001b[1;31mValueError\u001b[0m                                Traceback (most recent call last)",
      "Cell \u001b[1;32mIn[6], line 1\u001b[0m\n\u001b[1;32m----> 1\u001b[0m \u001b[38;5;28;01mraise\u001b[39;00m \u001b[38;5;167;01mValueError\u001b[39;00m(\u001b[38;5;124m'\u001b[39m\u001b[38;5;124mBad value\u001b[39m\u001b[38;5;124m'\u001b[39m)\n",
      "\u001b[1;31mValueError\u001b[0m: Bad value"
     ]
    }
   ],
   "source": [
    "raise ValueError('Bad value')"
   ]
  },
  {
   "cell_type": "markdown",
   "metadata": {},
   "source": [
    "# Allmän python"
   ]
  },
  {
   "cell_type": "markdown",
   "metadata": {},
   "source": [
    "### kolla så parametrar är av rätt typ i metoder"
   ]
  },
  {
   "cell_type": "code",
   "execution_count": 1,
   "metadata": {},
   "outputs": [
    {
     "name": "stdout",
     "output_type": "stream",
     "text": [
      "Factorial is an integer\n",
      "Factorial is not an integer\n"
     ]
    },
    {
     "data": {
      "text/plain": [
       "False"
      ]
     },
     "execution_count": 1,
     "metadata": {},
     "output_type": "execute_result"
    }
   ],
   "source": [
    "def factorial(n):\n",
    "    if not isinstance(n, int):\n",
    "        print('Factorial is not an integer')\n",
    "        return False\n",
    "    else:\n",
    "        print('Factorial is an integer')\n",
    "        return True\n",
    "\n",
    "n = 5    \n",
    "factorial(n)\n",
    "n = 'example string'\n",
    "factorial(n)"
   ]
  },
  {
   "cell_type": "markdown",
   "metadata": {},
   "source": [
    "## Lists"
   ]
  },
  {
   "cell_type": "markdown",
   "metadata": {},
   "source": [
    "### hämta intervaller från färdiga vektorer"
   ]
  },
  {
   "cell_type": "code",
   "execution_count": null,
   "metadata": {},
   "outputs": [],
   "source": [
    "# att hämta intervaller\n",
    "string = 'monty'\n",
    "interval = string[0:4]\n",
    "print(interval)"
   ]
  },
  {
   "cell_type": "markdown",
   "metadata": {},
   "source": [
    "### Räkna med vektorer och matriser"
   ]
  },
  {
   "cell_type": "markdown",
   "metadata": {},
   "source": [
    "### Skapa intervaller"
   ]
  },
  {
   "cell_type": "code",
   "execution_count": 1,
   "metadata": {},
   "outputs": [
    {
     "name": "stdout",
     "output_type": "stream",
     "text": [
      "[10 15 20 25 30 35 40 45 50 55 60 65 70 75 80 85 90 95]\n",
      "[ 1.    3.25  5.5   7.75 10.  ]\n"
     ]
    }
   ],
   "source": [
    "# att skapa intervaller\n",
    "\n",
    "import numpy as np\n",
    "\n",
    "array = np.arange(10, 100, 5) #arange(start, stop, step)\n",
    "print(array)\n",
    "\n",
    "# eller linspace\n",
    "\n",
    "array = np.linspace(1, 10, 5) #linspace(start, stop, antal element)\n",
    "print(array)"
   ]
  },
  {
   "cell_type": "markdown",
   "metadata": {},
   "source": [
    "### sort()"
   ]
  },
  {
   "cell_type": "code",
   "execution_count": 3,
   "metadata": {},
   "outputs": [
    {
     "name": "stdout",
     "output_type": "stream",
     "text": [
      "[1, 2, 3, 5]\n"
     ]
    }
   ],
   "source": [
    "list = [2, 5, 1, 3]\n",
    "list.sort()\n",
    "print(list)"
   ]
  },
  {
   "cell_type": "markdown",
   "metadata": {},
   "source": [
    "### extend()"
   ]
  },
  {
   "cell_type": "code",
   "execution_count": 4,
   "metadata": {},
   "outputs": [
    {
     "name": "stdout",
     "output_type": "stream",
     "text": [
      "[1, 2, 3, 4, 5, 6]\n"
     ]
    }
   ],
   "source": [
    "# kombinera listor\n",
    "\n",
    "list1 = [1, 2, 3]\n",
    "list2 = [4, 5, 6]\n",
    "list1.extend(list2)\n",
    "print(list1)"
   ]
  },
  {
   "cell_type": "markdown",
   "metadata": {},
   "source": [
    "### del() och remove()"
   ]
  },
  {
   "cell_type": "code",
   "execution_count": 5,
   "metadata": {},
   "outputs": [
    {
     "name": "stdout",
     "output_type": "stream",
     "text": [
      "[1, 2]\n",
      "[2]\n"
     ]
    }
   ],
   "source": [
    "# del() tar bort elementet i den indexet\n",
    "\n",
    "list = [1, 2, 3]\n",
    "del list[2]\n",
    "print(list)\n",
    "\n",
    "# remove() tar bort elementet\n",
    "\n",
    "list.remove(1)\n",
    "print(list)"
   ]
  },
  {
   "cell_type": "markdown",
   "metadata": {},
   "source": [
    "## Dictionaries"
   ]
  },
  {
   "cell_type": "markdown",
   "metadata": {},
   "source": [
    "## Strings"
   ]
  },
  {
   "cell_type": "markdown",
   "metadata": {},
   "source": [
    "### String metoder"
   ]
  },
  {
   "cell_type": "code",
   "execution_count": 2,
   "metadata": {},
   "outputs": [
    {
     "name": "stdout",
     "output_type": "stream",
     "text": [
      "banana\n",
      "BANANA\n"
     ]
    }
   ],
   "source": [
    "word = 'banana'\n",
    "print(word)\n",
    "new_word = word.upper()\n",
    "print(new_word)"
   ]
  },
  {
   "cell_type": "markdown",
   "metadata": {},
   "source": [
    "# Plots"
   ]
  },
  {
   "cell_type": "markdown",
   "metadata": {},
   "source": [
    "## Hur man plottar"
   ]
  },
  {
   "cell_type": "code",
   "execution_count": 1,
   "metadata": {},
   "outputs": [
    {
     "data": {
      "text/plain": [
       "[<matplotlib.lines.Line2D at 0x23f5279d520>]"
      ]
     },
     "execution_count": 1,
     "metadata": {},
     "output_type": "execute_result"
    },
    {
     "data": {
      "image/png": "[encoded data removed]",
      "text/plain": [
       "<Figure size 640x480 with 1 Axes>"
      ]
     },
     "metadata": {},
     "output_type": "display_data"
    }
   ],
   "source": [
    "# plotta en funktion\n",
    "\n",
    "import numpy as np\n",
    "import matplotlib.pyplot as plt\n",
    "\n",
    "def f(x):\n",
    "    return np.sin(x)\n",
    "x = np.linspace(1, 10, 50)\n",
    "\n",
    "plt.plot(x, f(x))\n",
    "plt.title('My graph')\n",
    "plt.ylabel('y-axis')\n",
    "plt.xlabel('x-axis')\n",
    "\n",
    "# man behöver inte göra hold on som i matlab\n",
    "\n",
    "def f2(x):\n",
    "    return np.cos(x)\n",
    "plt.plot(x, f2(x))"
   ]
  },
  {
   "cell_type": "markdown",
   "metadata": {},
   "source": [
    "## Öppna plots i nytt fönster"
   ]
  },
  {
   "cell_type": "code",
   "execution_count": null,
   "metadata": {},
   "outputs": [],
   "source": [
    "# skapa en plot figur i ny fönster\n",
    "\n",
    "import numpy as np\n",
    "import matplotlib.pyplot as plt\n",
    "\n",
    "def f(x):\n",
    "    return np.sin(x)\n",
    "x = np.linspace(1, 10, 50)\n",
    "\n",
    "plt.figure()\n",
    "plt.plot(x, f(x))\n",
    "plt.show()"
   ]
  },
  {
   "cell_type": "markdown",
   "metadata": {},
   "source": [
    "## Subplots"
   ]
  },
  {
   "cell_type": "code",
   "execution_count": null,
   "metadata": {},
   "outputs": [],
   "source": [
    "# subplots\n",
    "\n",
    "import numpy as np\n",
    "import matplotlib.pyplot as plt\n",
    "\n",
    "def f(x):\n",
    "    return np.sin(x)\n",
    "x = np.linspace(1, 10, 50)\n",
    "\n",
    "fig, (plot1, plot2) = plt.subplots(2)\n",
    "plot1.plot(x, f(x))\n",
    "plot2.plot(x, f(x)*2)"
   ]
  },
  {
   "cell_type": "markdown",
   "metadata": {},
   "source": [
    "## Plot gränser"
   ]
  },
  {
   "cell_type": "code",
   "execution_count": null,
   "metadata": {},
   "outputs": [],
   "source": [
    "# sätt limits\n",
    "\n",
    "import numpy as np\n",
    "import matplotlib.pyplot as plt\n",
    "\n",
    "def f(x):\n",
    "    return np.sin(x)\n",
    "x = np.linspace(0, 10, 50)\n",
    "\n",
    "plt.plot(x, f(x))\n",
    "plt.axis([0, 5, 0, 1]) # 0 och 5 är för x, 0 och 1 för y"
   ]
  },
  {
   "cell_type": "markdown",
   "metadata": {},
   "source": [
    "# Matte"
   ]
  },
  {
   "cell_type": "markdown",
   "metadata": {},
   "source": [
    "## Räkna med vektorer och matriser"
   ]
  },
  {
   "cell_type": "code",
   "execution_count": null,
   "metadata": {},
   "outputs": [],
   "source": [
    "# att räkna med vektorer och matriser som i linjär algebra görs med numpy\n",
    "\n",
    "import numpy as np\n",
    "\n",
    "vektor1 = [1, 2, 3]\n",
    "vektor2 = [4, 5, 6]\n",
    "\n",
    "vektor1 = np.array(vektor1)\n",
    "vektor2 = np.array(vektor2)\n",
    "\n",
    "sum = vektor1 + vektor2\n",
    "print('vektor 1: ' + str(vektor1) + '\\nvektor 2: ' + str(vektor2)  + '\\nsumma: ' + str(sum))\n",
    "\n",
    "#---------Matriser---------#\n",
    "\n",
    "matrix = np.matrix([[1,2,3], [4,5,6], [7,8,9]])\n",
    "print(matrix)\n",
    "print(matrix*2)\n",
    "print(matrix**2)\n",
    "print(matrix/2)\n",
    "print(vektor2*matrix)"
   ]
  },
  {
   "cell_type": "markdown",
   "metadata": {},
   "source": [
    "## Räkna symboliskt och förenkla/utöka ekvationer"
   ]
  },
  {
   "cell_type": "code",
   "execution_count": null,
   "metadata": {},
   "outputs": [],
   "source": [
    "# räkna symboliskt\n",
    "import sympy as sym\n",
    "\n",
    "x = sym.Symbol('x')\n",
    "y = sym.Symbol('y')\n",
    "print(x+x)\n",
    "\n",
    "func = (x+y)**3\n",
    "expanded = sym.expand(func)\n",
    "print(expanded)\n",
    "\n",
    "simplified = sym.simplify(expanded)\n",
    "print(simplified)"
   ]
  },
  {
   "cell_type": "markdown",
   "metadata": {},
   "source": [
    "## Lösa ekvationer"
   ]
  },
  {
   "cell_type": "code",
   "execution_count": null,
   "metadata": {},
   "outputs": [],
   "source": [
    "# lösa ekvationer\n",
    "from sympy.solvers import solve\n",
    "import sympy as sym\n",
    "from sympy.abc import x, y #importerar x och y direkt som symboliska variabler\n",
    "\n",
    "eq = x**2 - 5 # översatt från x**2 = 5 -> x**2-5, alltså att ekvationen måste vara = 0\n",
    "solve(eq)\n",
    "\n",
    "eq = x**2 - y\n",
    "solve(eq, x) #löser i hänsyn till x"
   ]
  },
  {
   "cell_type": "markdown",
   "metadata": {},
   "source": [
    "## Lösa ekvationssystem"
   ]
  },
  {
   "cell_type": "code",
   "execution_count": null,
   "metadata": {},
   "outputs": [],
   "source": [
    "# ekvation system\n",
    "\n",
    "from sympy.solvers import solve\n",
    "from sympy.abc import x, y, z\n",
    "\n",
    "eq = [x + y - 2*z, y + 4*z] #två ekvationer\n",
    "solve(eq, [x, y]) #löser i hänsyn till x och y"
   ]
  },
  {
   "cell_type": "markdown",
   "metadata": {},
   "source": [
    "## Matris ekvationer i formen Ax = y"
   ]
  },
  {
   "cell_type": "code",
   "execution_count": null,
   "metadata": {},
   "outputs": [],
   "source": [
    "from sympy import symbols\n",
    "from sympy.matrices import Matrix\n",
    "\n",
    "c, d, e = symbols(\"c, d, e\")\n",
    "A = Matrix([[c,d], [1, -e]])\n",
    "b = Matrix([2, 0])\n",
    "A.solve(b)"
   ]
  },
  {
   "cell_type": "markdown",
   "metadata": {},
   "source": [
    "## Differential ekvationer"
   ]
  },
  {
   "cell_type": "code",
   "execution_count": null,
   "metadata": {},
   "outputs": [],
   "source": [
    "from sympy import Function, dsolve, Derivative, checkodesol\n",
    "from sympy.abc import x\n",
    "\n",
    "#ekvation att lösa: y'' + 9*y(x) = 0\n",
    "\n",
    "y = Function('y') #definierar y som funktion\n",
    "yp = y(x).diff(x) #definierar funktionen y'(x)\n",
    "ypp = yp.diff(x) #definierar funktionen y''(x)\n",
    "\n",
    "result = dsolve(ypp + 9*y(x), y(x)) #andra parametern -> lösa för y(x)\n",
    "result"
   ]
  },
  {
   "cell_type": "code",
   "execution_count": null,
   "metadata": {},
   "outputs": [],
   "source": [
    "#kolla om lösningen är rätt\n",
    "checkodesol(ypp + 9*y(x), result)"
   ]
  },
  {
   "cell_type": "code",
   "execution_count": null,
   "metadata": {},
   "outputs": [],
   "source": [
    "# man kan använda Derivative för att skapa diff uttryck\n",
    "\n",
    "ypp = Derivative(y(x), x, x)\n",
    "ypp"
   ]
  },
  {
   "cell_type": "code",
   "execution_count": null,
   "metadata": {},
   "outputs": [],
   "source": [
    "yp = Derivative(y(x), x)\n",
    "yp"
   ]
  },
  {
   "cell_type": "markdown",
   "metadata": {},
   "source": [
    "## Boundary conditions"
   ]
  },
  {
   "cell_type": "code",
   "execution_count": null,
   "metadata": {},
   "outputs": [],
   "source": [
    "dsolve(ypp + 9*y(x), y(x), ics={y(0): 0, y(1): 1}) #tredje parametern är boundary conditions"
   ]
  },
  {
   "attachments": {
    "image.png": {
     "image/png": "[encoded data removed]"
    }
   },
   "cell_type": "markdown",
   "metadata": {},
   "source": [
    "## Simulera state-space modeller\n",
    "\n",
    "![image.png](attachment:image.png)"
   ]
  },
  {
   "cell_type": "code",
   "execution_count": 2,
   "metadata": {},
   "outputs": [
    {
     "data": {
      "image/png": "[encoded data removed]",
      "text/plain": [
       "<Figure size 640x480 with 1 Axes>"
      ]
     },
     "metadata": {},
     "output_type": "display_data"
    }
   ],
   "source": [
    "import scipy.signal as sig\n",
    "import matplotlib.pyplot as plt\n",
    "import numpy as np\n",
    "\n",
    "#Simulation Parameters\n",
    "x0 = [0,0]\n",
    "start = 0\n",
    "stop = 30\n",
    "step = 1\n",
    "t = np.arange(start,stop,step)\n",
    "\n",
    "K = 3\n",
    "T = 4\n",
    "\n",
    "# State-space Model\n",
    "A = [[-1/T, 0],\n",
    "[0, 0]]\n",
    "B = [[K/T],\n",
    "[0]]\n",
    "C = [[1, 0]]\n",
    "D = 0\n",
    "\n",
    "sys = sig.StateSpace(A, B, C, D)\n",
    "\n",
    "# Step Response\n",
    "t, y = sig.step(sys, x0, t)\n",
    "\n",
    "# Plotting\n",
    "plt.plot(t, y)\n",
    "plt.title(\"Step Response\")\n",
    "plt.xlabel(\"t\")\n",
    "plt.ylabel(\"y\")\n",
    "plt.grid()\n",
    "plt.show()"
   ]
  }
 ],
 "metadata": {
  "kernelspec": {
   "display_name": "Python 3",
   "language": "python",
   "name": "python3"
  },
  "language_info": {
   "codemirror_mode": {
    "name": "ipython",
    "version": 3
   },
   "file_extension": ".py",
   "mimetype": "text/x-python",
   "name": "python",
   "nbconvert_exporter": "python",
   "pygments_lexer": "ipython3",
   "version": "3.12.0"
  }
 },
 "nbformat": 4,
 "nbformat_minor": 2
}
